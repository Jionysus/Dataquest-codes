{
 "cells": [
  {
   "cell_type": "code",
   "execution_count": null,
   "metadata": {
    "collapsed": false
   },
   "outputs": [],
   "source": [
    "import csv\n",
    "f = open(\"guns.csv\")\n",
    "data = list(csv.reader(f))\n",
    "data[0:5]"
   ]
  },
  {
   "cell_type": "code",
   "execution_count": null,
   "metadata": {
    "collapsed": false
   },
   "outputs": [],
   "source": [
    "headers = data[0]\n",
    "headers"
   ]
  },
  {
   "cell_type": "code",
   "execution_count": null,
   "metadata": {
    "collapsed": false
   },
   "outputs": [],
   "source": [
    "data = data[1:]\n",
    "data[0:5]"
   ]
  },
  {
   "cell_type": "code",
   "execution_count": null,
   "metadata": {
    "collapsed": false
   },
   "outputs": [],
   "source": [
    "years = []\n",
    "for row in data:\n",
    "    years.append(row[1])\n",
    "year_counts = {}\n",
    "for year in years:\n",
    "    year_counts[year] = year_counts.get(year, 0) + 1\n",
    "year_counts"
   ]
  },
  {
   "cell_type": "code",
   "execution_count": null,
   "metadata": {
    "collapsed": false
   },
   "outputs": [],
   "source": [
    "import datetime\n",
    "dates = []\n",
    "for row in data:\n",
    "    dates.append(datetime.datetime(year=int(row[1]), month=int(row[2]), day=1))\n",
    "dates[0:5]"
   ]
  },
  {
   "cell_type": "code",
   "execution_count": null,
   "metadata": {
    "collapsed": false
   },
   "outputs": [],
   "source": [
    "date_counts = {}\n",
    "for date in dates:\n",
    "    date_counts[date] = date_counts.get(year, 0) + 1\n",
    "date_counts"
   ]
  },
  {
   "cell_type": "code",
   "execution_count": null,
   "metadata": {
    "collapsed": false
   },
   "outputs": [],
   "source": [
    "genders = []\n",
    "for row in data:\n",
    "    genders.append(row[5])\n",
    "gender_counts = {}\n",
    "for gender in genders:\n",
    "    gender_counts[gender] = gender_counts.get(gender, 0) + 1\n",
    "gender_counts"
   ]
  },
  {
   "cell_type": "code",
   "execution_count": null,
   "metadata": {
    "collapsed": false
   },
   "outputs": [],
   "source": [
    "genders = []\n",
    "for row in data:\n",
    "    genders.append(row[5])\n",
    "sex_counts = {}\n",
    "for gender in genders:\n",
    "    sex_counts[gender] = sex_counts.get(gender, 0) + 1\n",
    "sex_counts"
   ]
  },
  {
   "cell_type": "code",
   "execution_count": null,
   "metadata": {
    "collapsed": false
   },
   "outputs": [],
   "source": [
    "races = []\n",
    "for row in data:\n",
    "    races.append(row[7])\n",
    "race_counts = {}\n",
    "for race in races:\n",
    "    race_counts[race] = race_counts.get(race, 0) + 1\n",
    "race_counts"
   ]
  },
  {
   "cell_type": "code",
   "execution_count": null,
   "metadata": {
    "collapsed": false
   },
   "outputs": [],
   "source": [
    "f = open(\"census.csv\")\n",
    "census = list(csv.reader(f))\n",
    "census"
   ]
  },
  {
   "cell_type": "code",
   "execution_count": null,
   "metadata": {
    "collapsed": false
   },
   "outputs": [],
   "source": [
    "mapping = {\n",
    "    \"Asian/Pacific Islander\": 15159516 + 674625,\n",
    "    \"Native American/Native Alaskan\": 3739506,\n",
    "    \"Black\": 40250635,\n",
    "    \"Hispanic\": 44618105,\n",
    "    \"White\": 197318956\n",
    "}\n",
    "race_per_hundredk = {}\n",
    "for key in race_counts:\n",
    "    race_per_hundredk[key] = race_counts[key] / mapping[key] * 100000\n",
    "race_per_hundredk"
   ]
  },
  {
   "cell_type": "code",
   "execution_count": null,
   "metadata": {
    "collapsed": false
   },
   "outputs": [],
   "source": [
    "intents = []\n",
    "for row in data:\n",
    "    intents.append(row[3])\n",
    "\n",
    "races = []\n",
    "for row in data:\n",
    "    races.append(row[7])\n",
    "\n",
    "homicide_race_counts = {}\n",
    "for i, race in enumerate(races):\n",
    "    if intents[i] == \"Homicide\":\n",
    "        homicide_race_counts[race] = homicide_race_counts.get(race, 0) +1\n",
    "\n",
    "homicide_race_per_hundredk = {}\n",
    "for key in homicide_race_counts:\n",
    "    homicide_race_per_hundredk[key] = homicide_race_counts[key] / mapping[key] * 100000\n",
    "print(homicide_race_per_hundredk)\n",
    "\n",
    "homicide_race_counts "
   ]
  }
 ],
 "metadata": {
  "kernelspec": {
   "display_name": "Python 3",
   "language": "python",
   "name": "python3"
  },
  "language_info": {
   "codemirror_mode": {
    "name": "ipython",
    "version": 3
   },
   "file_extension": ".py",
   "mimetype": "text/x-python",
   "name": "python",
   "nbconvert_exporter": "python",
   "pygments_lexer": "ipython3",
   "version": "3.4.3"
  }
 },
 "nbformat": 4,
 "nbformat_minor": 0
}
